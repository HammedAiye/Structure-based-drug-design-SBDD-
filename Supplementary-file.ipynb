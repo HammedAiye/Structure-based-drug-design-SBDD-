{
  "nbformat": 4,
  "nbformat_minor": 0,
  "metadata": {
    "colab": {
      "provenance": [],
      "toc_visible": true,
      "mount_file_id": "1s8ML0XoM-xoEBQoGJwLGAwsY1M8vMmjx",
      "authorship_tag": "ABX9TyPTOZMzwJ26Gz6QTlcfGGM6",
      "include_colab_link": true
    },
    "kernelspec": {
      "name": "python3",
      "display_name": "Python 3"
    },
    "language_info": {
      "name": "python"
    }
  },
  "cells": [
    {
      "cell_type": "markdown",
      "metadata": {
        "id": "view-in-github",
        "colab_type": "text"
      },
      "source": [
        "<a href=\"https://colab.research.google.com/github/HammedAiye/Structure-based-drug-design-SBDD-/blob/main/Supplementary-file.ipynb\" target=\"_parent\"><img src=\"https://colab.research.google.com/assets/colab-badge.svg\" alt=\"Open In Colab\"/></a>"
      ]
    },
    {
      "cell_type": "code",
      "source": [
        "import subprocess\n",
        "\n",
        "def install_dependencies():\n",
        "    try:\n",
        "        # Update package lists\n",
        "        print(\"Updating package lists...\")\n",
        "        subprocess.run([\"sudo\", \"apt\", \"update\"], check=True)\n",
        "\n",
        "        # Install system dependencies for Open Babel\n",
        "        print(\"Installing dependencies...\")\n",
        "        dependencies = [\n",
        "            \"cmake\",\n",
        "            \"g++\",\n",
        "            \"make\",\n",
        "            \"python3-dev\",\n",
        "            \"libopenbabel-dev\",\n",
        "            \"openbabel\"\n",
        "        ]\n",
        "        subprocess.run([\"sudo\", \"apt\", \"install\", \"-y\"] + dependencies, check=True)\n",
        "\n",
        "        print(\"Dependencies installed successfully!\")\n",
        "    except subprocess.CalledProcessError as e:\n",
        "        print(f\"An error occurred: {e}\")\n",
        "        print(\"Please check the error and try again.\")\n",
        "\n",
        "if __name__ == \"__main__\":\n",
        "    install_dependencies()\n"
      ],
      "metadata": {
        "id": "Y1pJ7u4GlUQ7"
      },
      "execution_count": null,
      "outputs": []
    }
  ]
}