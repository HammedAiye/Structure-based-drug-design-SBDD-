{
  "nbformat": 4,
  "nbformat_minor": 0,
  "metadata": {
    "colab": {
      "provenance": [],
      "toc_visible": true,
      "mount_file_id": "1s8ML0XoM-xoEBQoGJwLGAwsY1M8vMmjx",
      "authorship_tag": "ABX9TyMHVMentEsw3/DPZpl9lA1o",
      "include_colab_link": true
    },
    "kernelspec": {
      "name": "python3",
      "display_name": "Python 3"
    },
    "language_info": {
      "name": "python"
    }
  },
  "cells": [
    {
      "cell_type": "markdown",
      "metadata": {
        "id": "view-in-github",
        "colab_type": "text"
      },
      "source": [
        "<a href=\"https://colab.research.google.com/github/HammedAiye/project/blob/main/Molecular_docking.ipynb\" target=\"_parent\"><img src=\"https://colab.research.google.com/assets/colab-badge.svg\" alt=\"Open In Colab\"/></a>"
      ]
    },
    {
      "cell_type": "code",
      "source": [
        "import subprocess\n",
        "\n",
        "def install_dependencies():\n",
        "    try:\n",
        "        # Update package lists\n",
        "        print(\"Updating package lists...\")\n",
        "        subprocess.run([\"sudo\", \"apt\", \"update\"], check=True)\n",
        "\n",
        "        # Install system dependencies for Open Babel\n",
        "        print(\"Installing dependencies...\")\n",
        "        dependencies = [\n",
        "            \"cmake\",\n",
        "            \"g++\",\n",
        "            \"make\",\n",
        "            \"python3-dev\",\n",
        "            \"libopenbabel-dev\",\n",
        "            \"openbabel\"\n",
        "        ]\n",
        "        subprocess.run([\"sudo\", \"apt\", \"install\", \"-y\"] + dependencies, check=True)\n",
        "\n",
        "        print(\"Dependencies installed successfully!\")\n",
        "    except subprocess.CalledProcessError as e:\n",
        "        print(f\"An error occurred: {e}\")\n",
        "        print(\"Please check the error and try again.\")\n",
        "\n",
        "if __name__ == \"__main__\":\n",
        "    install_dependencies()\n"
      ],
      "metadata": {
        "id": "Y1pJ7u4GlUQ7"
      },
      "execution_count": null,
      "outputs": []
    },
    {
      "cell_type": "code",
      "source": [
        "# Install conda if not already available\n",
        "!pip install -q condacolab\n",
        "import condacolab\n",
        "condacolab.install()\n",
        "\n",
        "# Install RDKit using conda\n",
        "!conda install -c conda-forge rdkit -y\n",
        "\n",
        "# Install openbabel using conda\n",
        "!conda install -c conda-forge openbabel -y\n",
        "\n",
        "# Install other packages using pip\n",
        "!pip install biopython py3Dmol matplotlib pandas"
      ],
      "metadata": {
        "id": "9ME2-UzCk-fV"
      },
      "execution_count": null,
      "outputs": []
    },
    {
      "cell_type": "code",
      "source": [
        "# Install conda if not already available\n",
        "!pip install -q condacolab\n",
        "import condacolab\n",
        "condacolab.install()\n",
        "\n",
        "# Install RDKit using conda\n",
        "!conda install -c conda-forge rdkit -y"
      ],
      "metadata": {
        "id": "DzFfEoivn2Fw"
      },
      "execution_count": null,
      "outputs": []
    },
    {
      "cell_type": "code",
      "source": [
        "from rdkit import Chem\n",
        "from rdkit.Chem import Descriptors\n",
        "from openbabel import openbabel\n",
        "from Bio.PDB import PDBParser\n",
        "import subprocess\n",
        "import py3Dmol\n",
        "import matplotlib.pyplot as plt"
      ],
      "metadata": {
        "id": "ZjtQivAloPk8"
      },
      "execution_count": 43,
      "outputs": []
    },
    {
      "cell_type": "code",
      "source": [
        "def lipinski_properties(smiles):\n",
        "    mol = Chem.MolFromSmiles(smiles)\n",
        "    mw = Descriptors.MolWt(mol)\n",
        "    logp = Descriptors.MolLogP(mol)\n",
        "    h_donors = Descriptors.NumHDonors(mol)\n",
        "    h_acceptors = Descriptors.NumHAcceptors(mol)\n",
        "    return {\"Molecular Weight\": mw, \"LogP\": logp, \"H Donors\": h_donors, \"H Acceptors\": h_acceptors}"
      ],
      "metadata": {
        "id": "JbVOU-keorhl"
      },
      "execution_count": 44,
      "outputs": []
    },
    {
      "cell_type": "code",
      "source": [
        "def prepare_ligand(cid):\n",
        "    obConversion = openbabel.OBConversion()\n",
        "    obConversion.SetInAndOutFormats(\"smi\", \"pdb\")\n",
        "    mol = openbabel.OBMol()\n",
        "    obConversion.ReadString(mol, f\"{cid}\")\n",
        "    pdb_output = f\"ligand_{cid}.pdb\"\n",
        "    obConversion.WriteFile(mol, pdb_output)\n",
        "    return pdb_output"
      ],
      "metadata": {
        "id": "OpjlUo9sotg1"
      },
      "execution_count": 45,
      "outputs": []
    },
    {
      "cell_type": "code",
      "source": [
        "def prepare_receptor(pdb_id):\n",
        "    parser = PDBParser()\n",
        "    structure = parser.get_structure(\"Receptor\", f\"{pdb_id}.pdb\")\n",
        "    return structure"
      ],
      "metadata": {
        "id": "CQK_V3iGo3iE"
      },
      "execution_count": 46,
      "outputs": []
    },
    {
      "cell_type": "code",
      "source": [
        "def run_docking(receptor_pdbqt, ligand_pdbqt, grid_center, grid_size):\n",
        "    cmd = f\"\"\"\n",
        "    prepare_receptor4.py -r {receptor_pdbqt}\n",
        "    prepare_ligand4.py -l {ligand_pdbqt}\n",
        "    autogrid4 -p autogrid.gpf -l grid.log\n",
        "    autodock4 -p docking.dpf -l docking.log\n",
        "    \"\"\"\n",
        "    subprocess.run(cmd, shell=True)\n",
        "\n",
        "    # Extract results\n",
        "    results = parse_docking_log(\"docking.log\")\n",
        "    return results"
      ],
      "metadata": {
        "id": "KdiU-O3Go9sQ"
      },
      "execution_count": 47,
      "outputs": []
    },
    {
      "cell_type": "code",
      "source": [
        "def parse_docking_log(log_file):\n",
        "    with open(log_file, 'r') as file:\n",
        "        lines = file.readlines()\n",
        "    results = {}\n",
        "    for line in lines:\n",
        "        if \"Binding Energy\" in line:\n",
        "            results[\"Binding Energy\"] = float(line.split(\":\")[-1].strip())\n",
        "        if \"Inhibition Constant\" in line:\n",
        "            results[\"Inhibition Constant\"] = float(line.split(\":\")[-1].strip())\n",
        "        if \"vdW + H-bond + desolv Energy\" in line:\n",
        "            results[\"vdw_Hbond_Desolv\"] = float(line.split(\":\")[-1].strip())\n",
        "    return results"
      ],
      "metadata": {
        "id": "_G6GXB7VpMvH"
      },
      "execution_count": 48,
      "outputs": []
    },
    {
      "cell_type": "code",
      "source": [
        "def visualize_docking(protein_file, ligand_file):\n",
        "    with open(protein_file, 'r') as protein:\n",
        "        protein_data = protein.read()\n",
        "    with open(ligand_file, 'r') as ligand:\n",
        "        ligand_data = ligand.read()\n",
        "\n",
        "    viewer = py3Dmol.view(width=800, height=600)\n",
        "    viewer.addModel(protein_data, 'pdb')\n",
        "    viewer.addModel(ligand_data, 'pdb')\n",
        "    viewer.setStyle({'stick': {}})\n",
        "    viewer.zoomTo()\n",
        "    viewer.show()"
      ],
      "metadata": {
        "id": "_c3dIgLlpSr6"
      },
      "execution_count": 49,
      "outputs": []
    },
    {
      "cell_type": "code",
      "source": [
        "# Define receptor and ligands\n",
        "receptor_id = \"1HNY\"\n",
        "ligands = [\"969516\", \"2353\", \"275182\"]\n",
        "grid_center = (0, 0, 0)  # Replace with actual center\n",
        "grid_size = (60, 60, 60)\n",
        "# After uploading, check if the receptor file exists in the /content directory\n",
        "receptor_file_path = \"/content/1hny.pdb\"  # Assuming the uploaded file is named '1hny.pdb'\n",
        "# Ensure the receptor file exists\n",
        "if not os.path.exists(receptor_file_path):\n",
        "    print(f\"Error: Receptor file {receptor_file_path} not found.\")\n",
        "else:\n",
        "    print(f\"Receptor file found at {receptor_file_path}\")\n",
        "\n",
        "    # Prepare receptor function (you can define specific preparation steps)\n",
        "    def prepare_receptor(pdb_file):\n",
        "        parser = PDB.PDBParser(QUIET=True)\n",
        "        structure = parser.get_structure(receptor_id, pdb_file)\n",
        "        # You can add further receptor preparation logic here, like adding hydrogens or other processing\n",
        "        return structure\n",
        "\n",
        "    # Prepare receptor\n",
        "    structure = prepare_receptor(receptor_file_path)\n",
        "    print(f\"Receptor {receptor_id} prepared successfully.\")\n",
        "\n",
        "    # Loop through ligands\n",
        "    for ligand in ligands:\n",
        "        print(f\"Processing ligand CID: {ligand}\")\n",
        "\n",
        "        # Example function to get SMILES from CID (you can implement PubChem API integration here)\n",
        "        def get_smiles_from_pubchem(cid):\n",
        "            # Dummy SMILES return; replace with actual logic or database query\n",
        "            return \"CC(C)Oc1ccccc1\"  # Example SMILES for a compound\n",
        "\n",
        "        # Get SMILES from CID\n",
        "        smiles = get_smiles_from_pubchem(ligand)\n",
        "        print(f\"SMILES for ligand {ligand}: {smiles}\")\n",
        "\n",
        "        # Example function for Lipinski properties (you can implement actual Lipinski property calculation here)\n",
        "        def lipinski_properties(smiles):\n",
        "            # Dummy Lipinski properties; replace with actual calculation logic\n",
        "            return {\n",
        "                \"Molecular Weight\": 350,\n",
        "                \"LogP\": 3.0,\n",
        "                \"H-bond Donors\": 1,\n",
        "                \"H-bond Acceptors\": 2\n",
        "            }\n",
        "\n",
        "        # Get Lipinski properties\n",
        "        lipinski = lipinski_properties(smiles)\n",
        "        print(\"Lipinski Properties:\", lipinski)\n",
        "\n",
        "        # Example function to prepare ligand (this could convert SMILES to PDBQT format)\n",
        "        def prepare_ligand(smiles):\n",
        "            # Dummy preparation step; replace with actual ligand preparation logic (e.g., using RDKit)\n",
        "            return f\"{ligand}_ligand.pdbqt\"\n",
        "\n",
        "        # Prepare ligand\n",
        "        ligand_pdb = prepare_ligand(smiles)\n",
        "        print(f\"Ligand {ligand} prepared as {ligand_pdb}\")\n",
        "\n",
        "        # Example docking function (replace with actual docking procedure using a tool like AutoDock Vina)\n",
        "        def run_docking(receptor_file, ligand_file, grid_center, grid_size):\n",
        "            # Dummy docking result; replace with actual docking results\n",
        "            return f\"Docking result for {ligand_file} with receptor {receptor_file}\"\n",
        "\n",
        "        # Run docking\n",
        "        results = run_docking(receptor_file_path, ligand_pdb, grid_center, grid_size)\n",
        "        print(\"Docking Results:\", results)\n",
        "\n",
        "        # Example visualization function (replace with actual visualization logic using a library like py3Dmol)\n",
        "        def visualize_docking(receptor_file, ligand_file):\n",
        "            # Dummy visualization step; replace with actual visualization code\n",
        "            print(f\"Visualizing docking of {ligand_file} with receptor {receptor_file}\")\n",
        "\n",
        "        # Visualize docking\n",
        "        visualize_docking(f\"{receptor_id}_docked.pdb\", f\"{ligand}_docked.pdb\")"
      ],
      "metadata": {
        "id": "-KKBQ19f3iDO"
      },
      "execution_count": null,
      "outputs": []
    }
  ]
}